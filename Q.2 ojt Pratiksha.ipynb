{
 "cells": [
  {
   "cell_type": "markdown",
   "id": "1f29c8fe",
   "metadata": {},
   "source": [
    "# Q2. Row Echelon Form:\n",
    "Create a 5x5 matrix, A, with entries randomly chosen integers between 0 and 9. To generate the random matrix, set the random seed as the last two digits of your roll number. Reduce matrix A to its Row Echelon Form by performing elementary row operations\n",
    "\n",
    "import numpy as np"
   ]
  },
  {
   "cell_type": "code",
   "execution_count": 1,
   "id": "c747d7e9",
   "metadata": {},
   "outputs": [
    {
     "name": "stdout",
     "output_type": "stream",
     "text": [
      "Matrix A:\n",
      "[[9 0 1 7 1]\n",
      " [7 2 8 0 0]\n",
      " [4 2 1 5 5]\n",
      " [7 4 1 8 8]\n",
      " [1 3 6 2 2]]\n"
     ]
    }
   ],
   "source": [
    "import numpy as np\n",
    "\n",
    "np.random.seed(11)\n",
    "A = np.random.randint(0, 10, size=(5, 5))\n",
    "print(\"Matrix A:\")\n",
    "print(A)\n"
   ]
  },
  {
   "cell_type": "code",
   "execution_count": 2,
   "id": "4ae80aa7",
   "metadata": {},
   "outputs": [
    {
     "name": "stdout",
     "output_type": "stream",
     "text": [
      "\n",
      "Row Echelon Form of Matrix A:\n",
      "[[1 0 0 0 0]\n",
      " [0 1 0 0 0]\n",
      " [0 0 1 0 0]\n",
      " [0 0 0 1 1]\n",
      " [0 0 0 0 0]]\n"
     ]
    }
   ],
   "source": [
    "def row_echelon_form(matrix):\n",
    "    m = len(matrix)\n",
    "    n = len(matrix[0])\n",
    "    lead = 0\n",
    "\n",
    "    for r in range(m):\n",
    "        if lead >= n:\n",
    "            return matrix\n",
    "        i = r\n",
    "        while matrix[i][lead] == 0:\n",
    "            i += 1\n",
    "            if i == m:\n",
    "                i = r\n",
    "                lead += 1\n",
    "                if n == lead:\n",
    "                    return matrix\n",
    "        matrix[i], matrix[r] = matrix[r], matrix[i]\n",
    "\n",
    "        lv = matrix[r][lead]\n",
    "        matrix[r] = [mrx / float(lv) for mrx in matrix[r]]\n",
    "\n",
    "        for i in range(m):\n",
    "            if i != r:\n",
    "                lv = matrix[i][lead]\n",
    "                matrix[i] = [iv - lv*rv for rv, iv in zip(matrix[r], matrix[i])]\n",
    "        lead += 1\n",
    "\n",
    "    return matrix\n",
    "\n",
    "A_reduced = row_echelon_form(A)\n",
    "print(\"\\nRow Echelon Form of Matrix A:\")\n",
    "print(np.array(A_reduced))\n"
   ]
  },
  {
   "cell_type": "code",
   "execution_count": null,
   "id": "1c43f276",
   "metadata": {},
   "outputs": [],
   "source": []
  }
 ],
 "metadata": {
  "kernelspec": {
   "display_name": "Python 3 (ipykernel)",
   "language": "python",
   "name": "python3"
  },
  "language_info": {
   "codemirror_mode": {
    "name": "ipython",
    "version": 3
   },
   "file_extension": ".py",
   "mimetype": "text/x-python",
   "name": "python",
   "nbconvert_exporter": "python",
   "pygments_lexer": "ipython3",
   "version": "3.11.5"
  }
 },
 "nbformat": 4,
 "nbformat_minor": 5
}
